{
 "cells": [
  {
   "cell_type": "markdown",
   "id": "4c748ef5",
   "metadata": {},
   "source": [
    "# Face Binary Mask"
   ]
  },
  {
   "cell_type": "code",
   "execution_count": null,
   "id": "fd9f0446",
   "metadata": {},
   "outputs": [],
   "source": [
    "from PIL import Image\n",
    "import numpy as np\n",
    "import os\n",
    "\n",
    "input_dir = 'vogue-schp'  # original segmentation results\n",
    "output_dir = 'vogue-face-mask'  # output folder for face masks\n",
    "\n",
    "os.makedirs(output_dir, exist_ok=True)\n",
    "\n",
    "FACE_CLASS = 11  # Face class in ATR dataset\n",
    "\n",
    "for file_name in os.listdir(input_dir):\n",
    "    if file_name.endswith('.png'):\n",
    "        path = os.path.join(input_dir, file_name)\n",
    "        img = Image.open(path)\n",
    "        mask = np.array(img)\n",
    "\n",
    "        # Create binary mask for face: 1 where class == FACE_CLASS, else 0\n",
    "        face_mask = np.where(mask == FACE_CLASS, 1, 0).astype(np.uint8)\n",
    "\n",
    "        # Convert to visible black-and-white image (0 or 255)\n",
    "        face_img = Image.fromarray(face_mask * 255)\n",
    "        face_img.save(os.path.join(output_dir, file_name))"
   ]
  },
  {
   "cell_type": "markdown",
   "id": "44f9bfc4",
   "metadata": {},
   "source": [
    "# Clothes Binary Mask"
   ]
  },
  {
   "cell_type": "code",
   "execution_count": null,
   "id": "c1710d51",
   "metadata": {},
   "outputs": [],
   "source": [
    "from PIL import Image\n",
    "import numpy as np\n",
    "import os\n",
    "\n",
    "input_dir = 'vogue-schp'  # original segmentation results\n",
    "output_dir = 'vogue-clothes-mask'  # new output directory\n",
    "\n",
    "os.makedirs(output_dir, exist_ok=True)\n",
    "\n",
    "CLOTHES_CLASSES = [4, 7]  # Upper-clothes and Dress in ATR\n",
    "\n",
    "for file_name in os.listdir(input_dir):\n",
    "    if file_name.endswith('.png'):\n",
    "        path = os.path.join(input_dir, file_name)\n",
    "        img = Image.open(path)\n",
    "        mask = np.array(img)\n",
    "\n",
    "        # Create binary mask: 1 if pixel belongs to clothes, else 0\n",
    "        clothes_mask = np.isin(mask, CLOTHES_CLASSES).astype(np.uint8)\n",
    "\n",
    "        # Save binary mask\n",
    "        clothes_img = Image.fromarray(clothes_mask * 255)  # multiply to make it viewable (0 or 255)\n",
    "        clothes_img.save(os.path.join(output_dir, file_name))"
   ]
  }
 ],
 "metadata": {
  "kernelspec": {
   "display_name": "Python 3",
   "language": "python",
   "name": "python3"
  },
  "language_info": {
   "codemirror_mode": {
    "name": "ipython",
    "version": 3
   },
   "file_extension": ".py",
   "mimetype": "text/x-python",
   "name": "python",
   "nbconvert_exporter": "python",
   "pygments_lexer": "ipython3",
   "version": "3.12.4"
  }
 },
 "nbformat": 4,
 "nbformat_minor": 5
}
